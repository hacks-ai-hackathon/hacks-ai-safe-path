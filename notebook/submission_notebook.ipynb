{
 "cells": [
  {
   "cell_type": "markdown",
   "source": [
    "## Тестирование модели\n",
    "\n",
    "Необходимо указать путь до папки с видео `test_video_folder` и путь, где будет лежать файлик с полученными результатами `output_path`."
   ],
   "metadata": {
    "collapsed": false
   }
  },
  {
   "cell_type": "code",
   "execution_count": 2,
   "outputs": [
    {
     "name": "stderr",
     "output_type": "stream",
     "text": [
      "Using cache found in C:\\Users\\Professional/.cache\\torch\\hub\\ultralytics_yolov5_master\n",
      "WARNING  invalid check_version(5.9.5, ) requested, please check values.\n",
      "YOLOv5  2023-9-23 Python-3.9.13 torch-2.0.1+cpu CPU\n",
      "\n",
      "Fusing layers... \n",
      "YOLOv5m summary: 290 layers, 21172173 parameters, 0 gradients\n",
      "Adding AutoShape... \n"
     ]
    }
   ],
   "source": [
    "import os\n",
    "from model.train_alert_system import TrainAlertSystem\n",
    "from pathlib import Path\n",
    "\n",
    "test_video_folder = Path(r\"C:\\Users\\Professional\\PycharmProjects\\hackaton_ai\\hacks-ai-safe-path\\data\")\n",
    "output_path = Path(r\"C:\\Users\\Professional\\PycharmProjects\\hackaton_ai\\hacks-ai-safe-path\\submissions\")\n",
    "\n",
    "alert_sys = TrainAlertSystem(railway_seg_model=os.path.join(\"../model\", \"railway_segmentation\", \"weights\", \"efficientnetb4.pth.tar\"))\n",
    "alert_sys.get_submission(test_video_folder=test_video_folder, output_path=output_path)"
   ],
   "metadata": {
    "collapsed": false,
    "ExecuteTime": {
     "start_time": "2023-09-24T04:41:50.483158Z",
     "end_time": "2023-09-24T04:43:47.462393Z"
    }
   }
  }
 ],
 "metadata": {
  "kernelspec": {
   "display_name": "Python 3",
   "language": "python",
   "name": "python3"
  },
  "language_info": {
   "codemirror_mode": {
    "name": "ipython",
    "version": 2
   },
   "file_extension": ".py",
   "mimetype": "text/x-python",
   "name": "python",
   "nbconvert_exporter": "python",
   "pygments_lexer": "ipython2",
   "version": "2.7.6"
  }
 },
 "nbformat": 4,
 "nbformat_minor": 0
}
