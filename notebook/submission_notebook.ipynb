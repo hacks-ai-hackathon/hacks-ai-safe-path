{
 "cells": [
  {
   "cell_type": "markdown",
   "source": [
    "## Тестирование модели\n",
    "\n",
    "Необходимо указать путь до папки с видео `test_video_folder` и путь, где будет лежать файлик с полученными результатами `output_path`."
   ],
   "metadata": {
    "collapsed": false
   }
  },
  {
   "cell_type": "code",
   "execution_count": 3,
   "outputs": [
    {
     "ename": "SyntaxError",
     "evalue": "invalid syntax (526199970.py, line 8)",
     "output_type": "error",
     "traceback": [
      "\u001B[1;36m  Cell \u001B[1;32mIn[3], line 8\u001B[1;36m\u001B[0m\n\u001B[1;33m    alert_sys = TrainAlertSystem(railway_seg_model=os.path.join(\"..\", model\", \"railway_segmentation\", \"weights\", \"efficientnetb4.pth.tar\"))\u001B[0m\n\u001B[1;37m                                                                           ^\u001B[0m\n\u001B[1;31mSyntaxError\u001B[0m\u001B[1;31m:\u001B[0m invalid syntax\n"
     ]
    }
   ],
   "source": [
    "import os\n",
    "from model.train_alert_system import TrainAlertSystem\n",
    "from pathlib import Path\n",
    "\n",
    "test_video_folder = Path(\"\")\n",
    "output_path = Path(\"\")\n",
    "\n",
    "alert_sys = TrainAlertSystem(railway_seg_model=os.path.join(\"..\", \"model\", \"railway_segmentation\", \"weights\", \"efficientnetb4.pth.tar\"))\n",
    "alert_sys.get_submission(test_video_folder=test_video_folder, output_path=output_path)"
   ],
   "metadata": {
    "collapsed": false,
    "ExecuteTime": {
     "start_time": "2023-09-24T04:41:50.483158Z",
     "end_time": "2023-09-24T04:43:47.462393Z"
    }
   }
  },
  {
   "cell_type": "code",
   "execution_count": null,
   "outputs": [],
   "source": [],
   "metadata": {
    "collapsed": false
   }
  }
 ],
 "metadata": {
  "kernelspec": {
   "display_name": "Python 3",
   "language": "python",
   "name": "python3"
  },
  "language_info": {
   "codemirror_mode": {
    "name": "ipython",
    "version": 2
   },
   "file_extension": ".py",
   "mimetype": "text/x-python",
   "name": "python",
   "nbconvert_exporter": "python",
   "pygments_lexer": "ipython2",
   "version": "2.7.6"
  }
 },
 "nbformat": 4,
 "nbformat_minor": 0
}
